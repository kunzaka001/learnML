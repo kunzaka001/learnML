{
 "cells": [
  {
   "cell_type": "code",
   "execution_count": 1,
   "id": "8ee48fdd-a816-4e7d-aaee-722b0a3c42e8",
   "metadata": {},
   "outputs": [],
   "source": [
    "import pandas as pd\n",
    "import numpy as np\n",
    "import matplotlib.pyplot as plt"
   ]
  },
  {
   "cell_type": "markdown",
   "id": "91538afd-c119-42da-b531-398963e4c259",
   "metadata": {},
   "source": [
    "# Making Dataset"
   ]
  },
  {
   "cell_type": "markdown",
   "id": "538f8139-26c5-4ae6-82bd-904e63005e4a",
   "metadata": {},
   "source": [
    "* ## make_classification"
   ]
  },
  {
   "cell_type": "code",
   "execution_count": 3,
   "id": "23d00412-deff-4278-bf9f-374289ffd815",
   "metadata": {},
   "outputs": [],
   "source": [
    "from sklearn.datasets import make_classification\n",
    "X, y = make_classification(n_samples=100, n_features=6, n_informative=3,\n",
    "                          n_redundant=2, n_repeated=0, n_clusters_per_class=2,\n",
    "                          n_classes=3, random_state=0)\n",
    "\n",
    "df = pd.DataFrame(x, columns=['x1', 'x2', 'x3', 'x4', 'x5', 'x6'])\n",
    "df['y'] "
   ]
  },
  {
   "cell_type": "code",
   "execution_count": null,
   "id": "01e18d58-ed3c-47fa-9678-61a3b39a62ad",
   "metadata": {},
   "outputs": [],
   "source": []
  }
 ],
 "metadata": {
  "kernelspec": {
   "display_name": "Python 3 (ipykernel)",
   "language": "python",
   "name": "python3"
  },
  "language_info": {
   "codemirror_mode": {
    "name": "ipython",
    "version": 3
   },
   "file_extension": ".py",
   "mimetype": "text/x-python",
   "name": "python",
   "nbconvert_exporter": "python",
   "pygments_lexer": "ipython3",
   "version": "3.12.7"
  }
 },
 "nbformat": 4,
 "nbformat_minor": 5
}
