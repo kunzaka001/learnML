{
 "cells": [
  {
   "cell_type": "markdown",
   "id": "4461801c-aacc-446a-b7a2-16acf24f103b",
   "metadata": {},
   "source": [
    "# LET DO IT!"
   ]
  },
  {
   "cell_type": "code",
   "execution_count": null,
   "id": "487314fa-1b1d-4e77-8cc8-f269bb4d6a06",
   "metadata": {},
   "outputs": [],
   "source": []
  }
 ],
 "metadata": {
  "kernelspec": {
   "display_name": "Python 3 (ipykernel)",
   "language": "python",
   "name": "python3"
  },
  "language_info": {
   "codemirror_mode": {
    "name": "ipython",
    "version": 3
   },
   "file_extension": ".py",
   "mimetype": "text/x-python",
   "name": "python",
   "nbconvert_exporter": "python",
   "pygments_lexer": "ipython3",
   "version": "3.12.7"
  }
 },
 "nbformat": 4,
 "nbformat_minor": 5
}
